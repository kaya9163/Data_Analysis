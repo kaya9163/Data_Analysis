{
 "cells": [
  {
   "cell_type": "markdown",
   "id": "hybrid-thumbnail",
   "metadata": {},
   "source": [
    "<h1><span style=\"text-align: center;\">Session - 3</span><h1>"
   ]
  },
  {
   "cell_type": "markdown",
   "id": "endangered-smith",
   "metadata": {},
   "source": [
    "* ``np.mean(arr,axis=0)`` | Returns mean along specific axis\n",
    "\n",
    "* ``arr.sum()`` | Returns sum of arr\n",
    "\n",
    "* ``arr.min()`` | Returns minimum value of arr\n",
    "\n",
    "* ``arr.max(axis=0)`` | Returns maximum value of specific axis\n",
    "\n",
    "* ``np.var(arr)`` | Returns the variance of array\n",
    "\n",
    "* ``np.std(arr,axis=1)`` | Returns the standard deviation of specific axis\n",
    "\n",
    "* ``arr.corrcoef()`` | Returns correlation coefficient of array\n",
    "\n",
    "## You can take a look at an attractive [official tutorial](https://numpy.org/devdocs/user/absolute_beginners.html) for beginners of NumPy."
   ]
  },
  {
   "cell_type": "markdown",
   "id": "pleased-dress",
   "metadata": {},
   "source": [
    "## Numpy Array Selection\n",
    "\n",
    "Let's briefly go over how to use brackets for selection based off of comparison operators."
   ]
  },
  {
   "cell_type": "code",
   "execution_count": 1,
   "id": "characteristic-ceremony",
   "metadata": {},
   "outputs": [],
   "source": [
    "import numpy as np\n",
    "import pandas as pd\n",
    "import matplotlib.pyplot as plt\n",
    "import seaborn as sns\n",
    "%matplotlib inline"
   ]
  },
  {
   "cell_type": "code",
   "execution_count": 19,
   "id": "opposite-omega",
   "metadata": {},
   "outputs": [
    {
     "data": {
      "text/plain": [
       "array([37, 37, 40, 39, 41, 26, 42, 33, 40, 29, 31, 43, 25, 42, 29, 26, 40,\n",
       "       40, 41, 38, 32, 44, 41, 25, 29, 31, 37, 28, 42, 39, 38, 32, 32, 44,\n",
       "       38, 31, 42, 31, 25, 36, 28, 33, 39, 29, 31, 42, 44, 25, 32, 33])"
      ]
     },
     "execution_count": 19,
     "metadata": {},
     "output_type": "execute_result"
    }
   ],
   "source": [
    "age = np.random.randint(25,45,50)\n",
    "age"
   ]
  },
  {
   "cell_type": "code",
   "execution_count": 20,
   "id": "enhanced-humidity",
   "metadata": {},
   "outputs": [],
   "source": [
    "age[0:2] = -1\n",
    "age[2:4] = 99"
   ]
  },
  {
   "cell_type": "code",
   "execution_count": 21,
   "id": "rising-decimal",
   "metadata": {},
   "outputs": [
    {
     "data": {
      "text/plain": [
       "array([-1, -1, 99, 99, 41, 26, 42, 33, 40, 29, 31, 43, 25, 42, 29, 26, 40,\n",
       "       40, 41, 38, 32, 44, 41, 25, 29, 31, 37, 28, 42, 39, 38, 32, 32, 44,\n",
       "       38, 31, 42, 31, 25, 36, 28, 33, 39, 29, 31, 42, 44, 25, 32, 33])"
      ]
     },
     "execution_count": 21,
     "metadata": {},
     "output_type": "execute_result"
    }
   ],
   "source": [
    "age"
   ]
  },
  {
   "cell_type": "code",
   "execution_count": 25,
   "id": "configured-impact",
   "metadata": {},
   "outputs": [
    {
     "data": {
      "image/png": "[encoded data removed]",
      "text/plain": [
       "<Figure size 432x288 with 1 Axes>"
      ]
     },
     "metadata": {
      "needs_background": "light"
     },
     "output_type": "display_data"
    }
   ],
   "source": [
    "plt.hist(age,bins=40)\n",
    "plt.show()"
   ]
  },
  {
   "cell_type": "code",
   "execution_count": 27,
   "id": "raising-russian",
   "metadata": {},
   "outputs": [
    {
     "data": {
      "image/png": "[encoded data removed]",
      "text/plain": [
       "<Figure size 432x288 with 1 Axes>"
      ]
     },
     "metadata": {
      "needs_background": "light"
     },
     "output_type": "display_data"
    }
   ],
   "source": [
    "plt.boxplot(age)\n",
    "plt.show()"
   ]
  },
  {
   "cell_type": "code",
   "execution_count": 28,
   "id": "looking-recall",
   "metadata": {},
   "outputs": [
    {
     "data": {
      "text/plain": [
       "array([-1, -1])"
      ]
     },
     "execution_count": 28,
     "metadata": {},
     "output_type": "execute_result"
    }
   ],
   "source": [
    "age[ age < 25]"
   ]
  },
  {
   "cell_type": "code",
   "execution_count": 29,
   "id": "representative-receiver",
   "metadata": {},
   "outputs": [
    {
     "data": {
      "text/plain": [
       "array([99, 99])"
      ]
     },
     "execution_count": 29,
     "metadata": {},
     "output_type": "execute_result"
    }
   ],
   "source": [
    "age[age>50]"
   ]
  },
  {
   "cell_type": "code",
   "execution_count": 30,
   "id": "hungry-marker",
   "metadata": {},
   "outputs": [
    {
     "name": "stdout",
     "output_type": "stream",
     "text": [
      "-1\n",
      "-1\n"
     ]
    }
   ],
   "source": [
    "for i in range(len(age)):\n",
    "    if age[i]<25:\n",
    "        print(age[i])"
   ]
  },
  {
   "cell_type": "code",
   "execution_count": 32,
   "id": "departmental-hacker",
   "metadata": {},
   "outputs": [
    {
     "data": {
      "text/plain": [
       "array([-1, -1, 99, 99, 41, 26, 42, 33, 40, 29, 31, 43, 25, 42, 29, 26, 40,\n",
       "       40, 41, 38, 32, 44, 41, 25, 29, 31, 37, 28, 42, 39, 38, 32, 32, 44,\n",
       "       38, 31, 42, 31, 25, 36, 28, 33, 39, 29, 31, 42, 44, 25, 32, 33])"
      ]
     },
     "execution_count": 32,
     "metadata": {},
     "output_type": "execute_result"
    }
   ],
   "source": [
    "age"
   ]
  },
  {
   "cell_type": "code",
   "execution_count": 31,
   "id": "genuine-borough",
   "metadata": {},
   "outputs": [
    {
     "data": {
      "text/plain": [
       "array([False, False,  True,  True, False, False, False, False, False,\n",
       "       False, False, False, False, False, False, False, False, False,\n",
       "       False, False, False, False, False, False, False, False, False,\n",
       "       False, False, False, False, False, False, False, False, False,\n",
       "       False, False, False, False, False, False, False, False, False,\n",
       "       False, False, False, False, False])"
      ]
     },
     "execution_count": 31,
     "metadata": {},
     "output_type": "execute_result"
    }
   ],
   "source": [
    "age > 50"
   ]
  },
  {
   "cell_type": "code",
   "execution_count": 34,
   "id": "labeled-accident",
   "metadata": {},
   "outputs": [
    {
     "data": {
      "text/plain": [
       "array([-1, -1, 35, 35, 41, 26, 42, 33, 40, 29, 31, 43, 25, 42, 29, 26, 40,\n",
       "       40, 41, 38, 32, 44, 41, 25, 29, 31, 37, 28, 42, 39, 38, 32, 32, 44,\n",
       "       38, 31, 42, 31, 25, 36, 28, 33, 39, 29, 31, 42, 44, 25, 32, 33])"
      ]
     },
     "execution_count": 34,
     "metadata": {},
     "output_type": "execute_result"
    }
   ],
   "source": [
    "age[ age>50 ] = age.mean()\n",
    "age"
   ]
  },
  {
   "cell_type": "code",
   "execution_count": 35,
   "id": "daily-comfort",
   "metadata": {},
   "outputs": [
    {
     "data": {
      "text/plain": [
       "array([33, 33, 35, 35, 41, 26, 42, 33, 40, 29, 31, 43, 25, 42, 29, 26, 40,\n",
       "       40, 41, 38, 32, 44, 41, 25, 29, 31, 37, 28, 42, 39, 38, 32, 32, 44,\n",
       "       38, 31, 42, 31, 25, 36, 28, 33, 39, 29, 31, 42, 44, 25, 32, 33])"
      ]
     },
     "execution_count": 35,
     "metadata": {},
     "output_type": "execute_result"
    }
   ],
   "source": [
    "age[ age<25 ] = age.mean()\n",
    "age"
   ]
  },
  {
   "cell_type": "code",
   "execution_count": 36,
   "id": "environmental-partition",
   "metadata": {},
   "outputs": [
    {
     "data": {
      "text/plain": [
       "array([33, 33, 35, 35, 41, 26, 42, 33, 40, 29, 31, 43, 25, 42, 29, 26, 40,\n",
       "       40, 41, 38, 32, 44, 41, 25, 29, 31, 37, 28, 42, 39, 38, 32, 32, 44,\n",
       "       38, 31, 42, 31, 25, 36, 28, 33, 39, 29, 31, 42, 44, 25, 32, 33])"
      ]
     },
     "execution_count": 36,
     "metadata": {},
     "output_type": "execute_result"
    }
   ],
   "source": [
    "\n",
    "age[ (age<25) | (age>50) ] = age.mean()\n",
    "age"
   ]
  },
  {
   "cell_type": "code",
   "execution_count": 40,
   "id": "fancy-button",
   "metadata": {},
   "outputs": [
    {
     "data": {
      "text/plain": [
       "array([35, 35, 35, 35, 41, 26, 42, 33, 40, 29, 31, 43, 25, 42, 29, 26, 40,\n",
       "       40, 41, 38, 32, 44, 41, 25, 29, 31, 37, 28, 42, 39, 38, 32, 32, 44,\n",
       "       38, 31, 42, 31, 25, 36, 28, 33, 39, 29, 31, 42, 44, 25, 32, 33])"
      ]
     },
     "execution_count": 40,
     "metadata": {},
     "output_type": "execute_result"
    }
   ],
   "source": [
    "age[0:2] = -1\n",
    "age[2:4] = 99\n",
    "\n",
    "age[ (age<25) | (age>50) ] = age.mean()\n",
    "age\n"
   ]
  },
  {
   "cell_type": "code",
   "execution_count": null,
   "id": "right-saying",
   "metadata": {},
   "outputs": [],
   "source": []
  },
  {
   "cell_type": "code",
   "execution_count": null,
   "id": "signed-manufacturer",
   "metadata": {},
   "outputs": [],
   "source": []
  },
  {
   "cell_type": "markdown",
   "id": "injured-juice",
   "metadata": {},
   "source": [
    "# Sort"
   ]
  },
  {
   "cell_type": "code",
   "execution_count": 41,
   "id": "changed-gibson",
   "metadata": {},
   "outputs": [
    {
     "data": {
      "text/plain": [
       "[-5, 0, 2, 2, 3, 6, 7, 8]"
      ]
     },
     "execution_count": 41,
     "metadata": {},
     "output_type": "execute_result"
    }
   ],
   "source": [
    "sorted([7,3,6,2,8,2,0,-5])"
   ]
  },
  {
   "cell_type": "code",
   "execution_count": 43,
   "id": "bound-profit",
   "metadata": {},
   "outputs": [
    {
     "data": {
      "text/plain": [
       "array([25, 25, 25, 25, 26, 26, 28, 28, 29, 29, 29, 29, 31, 31, 31, 31, 31,\n",
       "       32, 32, 32, 32, 33, 33, 33, 35, 35, 35, 35, 36, 37, 38, 38, 38, 39,\n",
       "       39, 40, 40, 40, 41, 41, 41, 42, 42, 42, 42, 42, 43, 44, 44, 44])"
      ]
     },
     "execution_count": 43,
     "metadata": {},
     "output_type": "execute_result"
    }
   ],
   "source": [
    "age.sort()\n",
    "age"
   ]
  },
  {
   "cell_type": "code",
   "execution_count": 45,
   "id": "romantic-plant",
   "metadata": {},
   "outputs": [
    {
     "data": {
      "text/plain": [
       "array([25, 25, 25, 25, 26, 26, 28, 28, 29, 29, 29, 29, 31, 31, 31, 31, 31,\n",
       "       32, 32, 32, 32, 33, 33, 33, 35, 35, 35, 35, 36, 37, 38, 38, 38, 39,\n",
       "       39, 40, 40, 40, 41, 41, 41, 42, 42, 42, 42, 42, 43, 44, 44, 44])"
      ]
     },
     "execution_count": 45,
     "metadata": {},
     "output_type": "execute_result"
    }
   ],
   "source": [
    "age.sort()\n",
    "age"
   ]
  },
  {
   "cell_type": "code",
   "execution_count": 46,
   "id": "attended-fields",
   "metadata": {},
   "outputs": [
    {
     "data": {
      "text/plain": [
       "array([44, 44, 44, 43, 42, 42, 42, 42, 42, 41, 41, 41, 40, 40, 40, 39, 39,\n",
       "       38, 38, 38, 37, 36, 35, 35, 35, 35, 33, 33, 33, 32, 32, 32, 32, 31,\n",
       "       31, 31, 31, 31, 29, 29, 29, 29, 28, 28, 26, 26, 25, 25, 25, 25])"
      ]
     },
     "execution_count": 46,
     "metadata": {},
     "output_type": "execute_result"
    }
   ],
   "source": [
    "age[::-1]"
   ]
  },
  {
   "cell_type": "code",
   "execution_count": 49,
   "id": "dense-ethics",
   "metadata": {},
   "outputs": [
    {
     "ename": "TypeError",
     "evalue": "'reverse' is an invalid keyword argument for sort()",
     "output_type": "error",
     "traceback": [
      "\u001b[1;31m---------------------------------------------------------------------------\u001b[0m",
      "\u001b[1;31mTypeError\u001b[0m                                 Traceback (most recent call last)",
      "\u001b[1;32m<ipython-input-49-c7eacf241614>\u001b[0m in \u001b[0;36m<module>\u001b[1;34m\u001b[0m\n\u001b[1;32m----> 1\u001b[1;33m \u001b[0mage\u001b[0m\u001b[1;33m.\u001b[0m\u001b[0msort\u001b[0m\u001b[1;33m(\u001b[0m\u001b[0mreverse\u001b[0m\u001b[1;33m=\u001b[0m\u001b[1;32mTrue\u001b[0m\u001b[1;33m)\u001b[0m\u001b[1;33m\u001b[0m\u001b[1;33m\u001b[0m\u001b[0m\n\u001b[0m",
      "\u001b[1;31mTypeError\u001b[0m: 'reverse' is an invalid keyword argument for sort()"
     ]
    }
   ],
   "source": [
    "# please search\n",
    "age.sort(reverse=True)"
   ]
  },
  {
   "cell_type": "code",
   "execution_count": null,
   "id": "acknowledged-confusion",
   "metadata": {},
   "outputs": [],
   "source": [
    "\n",
    "\n",
    "\n"
   ]
  }
 ],
 "metadata": {
  "kernelspec": {
   "display_name": "Python 3",
   "language": "python",
   "name": "python3"
  },
  "language_info": {
   "codemirror_mode": {
    "name": "ipython",
    "version": 3
   },
   "file_extension": ".py",
   "mimetype": "text/x-python",
   "name": "python",
   "nbconvert_exporter": "python",
   "pygments_lexer": "ipython3",
   "version": "3.8.5"
  }
 },
 "nbformat": 4,
 "nbformat_minor": 5
}
